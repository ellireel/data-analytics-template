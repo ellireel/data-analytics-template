# Project Name 
**Author:** Elli Reel  
**Last modified:** 2024-11-13 (created: 2024-11-13)  

**Description:** Short paragraph explaining this project
<br>
import libraries:
import pandas as pd 
<br>
load data:
# code to read csv file 
