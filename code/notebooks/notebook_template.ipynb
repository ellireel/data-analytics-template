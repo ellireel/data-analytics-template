{
 "cells": [
  {
   "cell_type": "markdown",
   "id": "069a3cb3-b638-4505-967b-dc1fdadbe479",
   "metadata": {},
   "source": [
    "# Project Name "
   ]
  },
  {
   "cell_type": "markdown",
   "id": "cb7a4f97-249f-4f24-ac78-c8debe29bf1b",
   "metadata": {},
   "source": [
    "**Author:** Elli Reel  \n",
    "**Last modified:** 2024-11-13 (created: 2024-11-13)  \n",
    "\n",
    "**Description:** Short paragraph explaining this project"
   ]
  },
  {
   "cell_type": "markdown",
   "id": "ca7e4ed2-1ebe-4220-af35-ca24d4e6be92",
   "metadata": {},
   "source": [
    "<br>"
   ]
  },
  {
   "cell_type": "markdown",
   "id": "65968679-8dd3-4297-ac39-ad5812cd7b9e",
   "metadata": {},
   "source": [
    "import libraries:"
   ]
  },
  {
   "cell_type": "code",
   "execution_count": 15,
   "id": "9ebd4d40-8901-40cb-be53-803055e9699b",
   "metadata": {},
   "outputs": [],
   "source": [
    "import pandas as pd "
   ]
  },
  {
   "cell_type": "markdown",
   "id": "73f1dbbc-b29c-402d-961c-fa718db731d1",
   "metadata": {},
   "source": [
    "<br>"
   ]
  },
  {
   "cell_type": "markdown",
   "id": "468c662a-3e9f-418e-af79-2712180e7db0",
   "metadata": {},
   "source": [
    "load data:"
   ]
  },
  {
   "cell_type": "code",
   "execution_count": 18,
   "id": "7056bd96-ebe7-4d15-aea2-eac8532f517d",
   "metadata": {},
   "outputs": [],
   "source": [
    "# code to read csv file "
   ]
  }
 ],
 "metadata": {
  "kernelspec": {
   "display_name": "Python 3 (ipykernel)",
   "language": "python",
   "name": "python3"
  },
  "language_info": {
   "codemirror_mode": {
    "name": "ipython",
    "version": 3
   },
   "file_extension": ".py",
   "mimetype": "text/x-python",
   "name": "python",
   "nbconvert_exporter": "python",
   "pygments_lexer": "ipython3",
   "version": "3.12.4"
  }
 },
 "nbformat": 4,
 "nbformat_minor": 5
}
